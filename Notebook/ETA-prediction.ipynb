{
 "cells": [
  {
   "cell_type": "markdown",
   "metadata": {},
   "source": [
    "## ETA-PREDICTION-FOR-DELIVERY-COMPANY"
   ]
  },
  {
   "cell_type": "markdown",
   "metadata": {},
   "source": [
    "### Business Understanding\n",
    "\n",
    "Ride-hailing apps like Uber and Yassir depend heavily on real-time data and sophisticated machine learning algorithms to streamline and enhance their services. Accurate ETA predictions are crucial for several reasons:\n",
    "\n",
    "- Customer Satisfaction:\n",
    "Accurate ETA estimates provide customers with reliable information about when their ride will arrive. This improves their overall experience and satisfaction.\n",
    "Reliable ETAs build trust with customers, leading to higher retention rates and positive reviews.\n",
    "\n",
    "- Operational Efficiency:\n",
    "By predicting ETAs more accurately, Yassir can optimize the distribution of drivers and resources. This ensures that drivers are effectively assigned to rides based on demand and proximity, reducing idle time and improving operational efficiency.\n",
    "Improved ETA predictions can help reduce operational costs by minimizing wait times and inefficient routes. This leads to better fuel usage and lower overall costs.\n",
    "\n",
    "- Competitive Advantage:\n",
    "In a competitive market, offering more accurate ETAs can differentiate Yassir from its competitors. This can attract more users and partners who value reliability and efficiency.\n",
    "Accurate ETAs can enhance relationships with business partners by providing them with reliable scheduling information and improving the overall service experience.\n",
    "\n",
    "- Impact on Business Strategy:\n",
    "Savings from improved efficiency can be reinvested into other areas of the business, such as technology upgrades, marketing, or expansion efforts.\n",
    "Leveraging real-time data and advanced analytics can drive strategic decisions and foster innovation within the company.\n",
    "\n",
    "#### Objectives\n",
    "The goal of this project is to develop a machine learning model that predicts the estimated time of arrival (ETA) at the dropoff point for a single Yassir journey. This model will:\n",
    "\n",
    "- Enhance Accuracy\n",
    "\n",
    "- Improve Efficiency\n",
    "\n",
    "- Drive Innovation\n",
    "\n",
    "\n"
   ]
  },
  {
   "cell_type": "code",
   "execution_count": 2,
   "metadata": {},
   "outputs": [],
   "source": [
    "# import packages\n",
    "import pandas as pd\n",
    "import numpy as np\n",
    "import matplotlib.pyplot as plt\n",
    "import seaborn as sns"
   ]
  },
  {
   "cell_type": "code",
   "execution_count": 3,
   "metadata": {},
   "outputs": [],
   "source": [
    "# Create a dataframe\n",
    "Train_df = pd.read_csv('../Dataset/Train.csv')\n",
    "Test_df = pd.read_csv('../Dataset/Test.csv')\n",
    "Weather_df = pd.read_csv('../Dataset/Weather.csv')\n",
    "Sample_df = pd.read_csv('../Dataset/SampleSubmission.csv')"
   ]
  },
  {
   "cell_type": "code",
   "execution_count": null,
   "metadata": {},
   "outputs": [],
   "source": []
  }
 ],
 "metadata": {
  "kernelspec": {
   "display_name": "venv",
   "language": "python",
   "name": "python3"
  },
  "language_info": {
   "codemirror_mode": {
    "name": "ipython",
    "version": 3
   },
   "file_extension": ".py",
   "mimetype": "text/x-python",
   "name": "python",
   "nbconvert_exporter": "python",
   "pygments_lexer": "ipython3",
   "version": "3.12.3"
  }
 },
 "nbformat": 4,
 "nbformat_minor": 2
}
